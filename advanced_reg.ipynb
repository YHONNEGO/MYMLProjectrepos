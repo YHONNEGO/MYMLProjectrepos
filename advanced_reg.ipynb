{
  "nbformat": 4,
  "nbformat_minor": 0,
  "metadata": {
    "colab": {
      "provenance": [],
      "include_colab_link": true
    },
    "kernelspec": {
      "name": "python3",
      "display_name": "Python 3"
    },
    "language_info": {
      "name": "python"
    }
  },
  "cells": [
    {
      "cell_type": "markdown",
      "metadata": {
        "id": "view-in-github",
        "colab_type": "text"
      },
      "source": [
        "<a href=\"https://colab.research.google.com/github/YHONNEGO/MYMLProjectrepos/blob/main/advanced_reg.ipynb\" target=\"_parent\"><img src=\"https://colab.research.google.com/assets/colab-badge.svg\" alt=\"Open In Colab\"/></a>"
      ]
    },
    {
      "cell_type": "code",
      "execution_count": null,
      "metadata": {
        "id": "PSzRr3nKyy0U"
      },
      "outputs": [],
      "source": [
        "\n",
        "import matplotlib.pyplot as plt\n",
        "import numpy as np\n",
        "import pandas as pd\n",
        "import sklearn.linear_model\n",
        "import os\n",
        "cancerData=pd.read_csv('prostate.txt',delimiter='\\t')"
      ]
    },
    {
      "cell_type": "code",
      "source": [
        "trainCancer=cancerData[cancerData.loc[:,'train']=='T']\n",
        "testCancer=cancerData[cancerData.loc[:,'train']=='F']\n",
        "x_train=trainCancer.drop(columns=['id','lpsa','train'])\n",
        "y_train=trainCancer.loc[:,'lpsa']\n",
        "x_test= testCancer.drop(columns=['id','lpsa','train'])\n",
        "y_test=testCancer.loc[:,'lpsa']\n",
        "\n",
        "x_train_scaled=sklearn.preprocessing.scale(x_train, axis=0, with_mean=True,\n",
        "with_std=True, copy=True)\n",
        "\n",
        "x_test_scaled=sklearn.preprocessing.scale(x_test, axis=0, with_mean=True,\n",
        "with_std=True, copy=True)"
      ],
      "metadata": {
        "id": "98N1qZP2y4LT"
      },
      "execution_count": null,
      "outputs": []
    },
    {
      "cell_type": "code",
      "source": [
        "\n",
        "# Function that gets prediction from matrix and Weights\n",
        "def getPred(x,W):\n",
        "    return(np.matmul(x,W))\n",
        "# The basic loss, sum over the difference of y-ypred\n",
        "def Loss(y,ypred):\n",
        "    l=(y-ypred)**2\n",
        "    return(l.sum())\n",
        "#The Mean Square Error.\n",
        "def MSE(X,Y,W):\n",
        "    return((1/X.shape[0])*Loss(Y,getPred(X,W)))"
      ],
      "metadata": {
        "id": "sJrsl05EzUBT"
      },
      "execution_count": null,
      "outputs": []
    },
    {
      "cell_type": "code",
      "source": [
        "def GradDesc(X,Y,learnRate=0.01,epochs=2000,reg=0):\n",
        "\n",
        "    global cacheLoss\n",
        "    cacheLoss=[None]*epochs\n",
        "\n",
        "   # Random Initialization of Weights\n",
        "    Weights=np.random.rand(X.shape[1])\n",
        "\n",
        "    Weights=np.array(Weights)\n",
        "    Weights=Weights.reshape(-1,1)\n",
        "    m=X.shape[0]\n",
        "\n",
        "    for i in range(epochs):\n",
        "\n",
        "        predictions=getPred(X,Weights)\n",
        "        cacheLoss[i]=Loss(Y,predictions)\n",
        "\n",
        "        Weights[0]=Weights[0]-(1/m)*learnRate*(np.matmul(X[:,0].transpose(),predictions-Y))\n",
        "\n",
        "        for j in range(1,len(Weights)):\n",
        "\n",
        "            Weights[j]=Weights[j]-(1/m)*learnRate*(np.matmul(X[:,j].transpose(),predictions-Y)+sum(np.dot(Weights[j],reg)))\n",
        "    return(Weights)"
      ],
      "metadata": {
        "id": "iAJjgW0mz6PN"
      },
      "execution_count": null,
      "outputs": []
    },
    {
      "cell_type": "code",
      "source": [
        "x_train_scaled=np.array(x_train_scaled)\n",
        "y_train=np.array(y_train)\n",
        "y_train=y_train.reshape(-1,1)\n",
        "y_test=np.array(y_test)\n",
        "y_test=y_test.reshape(-1,1)\n",
        "\n",
        "#We need a column of ones to add as a bias term\n",
        "addBias=np.ones([x_train_scaled.shape[0],1])\n",
        "x_train_scaled=np.append(addBias,x_train_scaled,axis=1)\n",
        "\n",
        "addBias=np.ones([x_test_scaled.shape[0],1])\n",
        "x_test_scaled=np.append(addBias,x_test_scaled,axis=1)\n",
        "\n",
        "# Get Linear Estimates\n",
        "\n",
        "Wlinear=GradDesc(x_train_scaled,y_train)\n",
        "Wlinear"
      ],
      "metadata": {
        "colab": {
          "base_uri": "https://localhost:8080/"
        },
        "id": "QYo8EJQz0dpm",
        "outputId": "54a4e4fe-af90-40ad-ae5a-0316880763ff"
      },
      "execution_count": null,
      "outputs": [
        {
          "output_type": "execute_result",
          "data": {
            "text/plain": [
              "array([[ 2.45234508],\n",
              "       [ 0.70531873],\n",
              "       [ 0.29164052],\n",
              "       [-0.14189172],\n",
              "       [ 0.21058105],\n",
              "       [ 0.30777789],\n",
              "       [-0.27753648],\n",
              "       [-0.0111602 ],\n",
              "       [ 0.26211981]])"
            ]
          },
          "metadata": {},
          "execution_count": 6
        }
      ]
    },
    {
      "cell_type": "code",
      "source": [
        "MSE(x_test_scaled,y_test,Wlinear)"
      ],
      "metadata": {
        "colab": {
          "base_uri": "https://localhost:8080/"
        },
        "id": "G8y10Nue0iY4",
        "outputId": "9d97d95b-142b-4840-f008-8f3e24c7b213"
      },
      "execution_count": null,
      "outputs": [
        {
          "output_type": "execute_result",
          "data": {
            "text/plain": [
              "0.5474832005044626"
            ]
          },
          "metadata": {},
          "execution_count": 7
        }
      ]
    },
    {
      "cell_type": "code",
      "source": [
        "X_train, X_Validate, Y_train, Y_Validate =  sklearn.model_selection.train_test_split(\n",
        "x_train_scaled, y_train, test_size=0.33, random_state=42)"
      ],
      "metadata": {
        "id": "J2ags35n0rcL"
      },
      "execution_count": null,
      "outputs": []
    },
    {
      "cell_type": "code",
      "source": [
        "def getRidgeLambda(x,y):\n",
        "\n",
        "    bestMSE=10e100\n",
        "\n",
        "    lamList=[l*0.05 for l in range(0,300)]\n",
        "\n",
        "    global ridgeLambda\n",
        "\n",
        "    for l in lamList:\n",
        "        Wr=GradDesc(x,y,reg=l)\n",
        "        if MSE(X_Validate,Y_Validate,Wr)< bestMSE:\n",
        "            bestMSE=MSE(X_Validate,Y_Validate,Wr)\n",
        "            ridgeLambda=l\n",
        "\n",
        "\n",
        "    return(ridgeLambda)\n",
        "\n",
        "ridgeLambda=getRidgeLambda(X_train,Y_train)\n",
        "ridgeLambda"
      ],
      "metadata": {
        "colab": {
          "base_uri": "https://localhost:8080/"
        },
        "id": "VhEMEsaF3z8Y",
        "outputId": "94b6b244-55a9-4101-cb79-49e1d1a8b5d9"
      },
      "execution_count": null,
      "outputs": [
        {
          "output_type": "execute_result",
          "data": {
            "text/plain": [
              "8.8"
            ]
          },
          "metadata": {},
          "execution_count": 10
        }
      ]
    },
    {
      "cell_type": "code",
      "source": [
        "\n",
        "Wridge=GradDesc(x_train_scaled,y_train,reg=ridgeLambda)\n",
        "RidgeMSE=MSE(x_test_scaled,y_test,Wridge)"
      ],
      "metadata": {
        "id": "Y07qBcmi34Ty"
      },
      "execution_count": null,
      "outputs": []
    },
    {
      "cell_type": "code",
      "source": [
        "Wridge"
      ],
      "metadata": {
        "colab": {
          "base_uri": "https://localhost:8080/"
        },
        "id": "b5NP4P-K4Bsf",
        "outputId": "178c47d2-82c1-4bc3-f965-5e7a93935e9a"
      },
      "execution_count": null,
      "outputs": [
        {
          "output_type": "execute_result",
          "data": {
            "text/plain": [
              "array([[ 2.45234508],\n",
              "       [ 0.55245296],\n",
              "       [ 0.27765753],\n",
              "       [-0.09137754],\n",
              "       [ 0.19282881],\n",
              "       [ 0.26915467],\n",
              "       [-0.102996  ],\n",
              "       [ 0.02414358],\n",
              "       [ 0.17775704]])"
            ]
          },
          "metadata": {},
          "execution_count": 12
        }
      ]
    },
    {
      "cell_type": "code",
      "source": [
        "RidgeMSE"
      ],
      "metadata": {
        "colab": {
          "base_uri": "https://localhost:8080/"
        },
        "id": "SHQl8ewQ4F4I",
        "outputId": "4cee6360-dd8e-409d-ea63-cc9cf82e566a"
      },
      "execution_count": null,
      "outputs": [
        {
          "output_type": "execute_result",
          "data": {
            "text/plain": [
              "0.5110920040462454"
            ]
          },
          "metadata": {},
          "execution_count": 13
        }
      ]
    },
    {
      "cell_type": "code",
      "source": [
        "def getLassoLambda(x,y):\n",
        "\n",
        "    bestMSE=10e100\n",
        "\n",
        "    alphaList=[l*0.1 for l in range(1,200)]\n",
        "\n",
        "    for a in alphaList:\n",
        "\n",
        "      lassoModel=sklearn.linear_model.Lasso(alpha=a,max_iter=5000,fit_intercept=False)\n",
        "\n",
        "      lassoModel.fit(x,y)\n",
        "\n",
        "      getPred=lassoModel.predict(X_Validate).reshape(-1,1)\n",
        "\n",
        "      MSE=sum((Y_Validate-getPred)**2)\n",
        "      if MSE < bestMSE:\n",
        "            bestMSE=MSE\n",
        "            lassoLambda=a\n",
        "      return(lassoLambda)\n",
        "\n",
        "\n",
        "lassoLambda=getLassoLambda(X_train,Y_train)\n",
        "print(f'The ideal lambda for Lasso is {lassoLambda}')\n"
      ],
      "metadata": {
        "colab": {
          "base_uri": "https://localhost:8080/"
        },
        "id": "F06Mdp564uXU",
        "outputId": "821fc3c5-f68f-4d06-f06c-a3eda31caedc"
      },
      "execution_count": null,
      "outputs": [
        {
          "output_type": "stream",
          "name": "stdout",
          "text": [
            "The ideal lambda for Lasso is 0.1\n"
          ]
        }
      ]
    },
    {
      "cell_type": "code",
      "source": [
        "\n",
        "fitLasso=sklearn.linear_model.Lasso(alpha=lassoLambda,fit_intercept=False)\n",
        "\n",
        "fitLasso.fit(x_train_scaled,y_train)\n",
        "\n",
        "Wlasso=fitLasso.coef_\n",
        "\n",
        "pz=fitLasso.predict(x_test_scaled).reshape(-1,1)\n",
        "\n",
        "LassoMSE=(1/x_test_scaled.shape[0])*sum((y_test-pz)**2)"
      ],
      "metadata": {
        "id": "C_Yyqs0J4vTu"
      },
      "execution_count": null,
      "outputs": []
    },
    {
      "cell_type": "code",
      "source": [
        "Wlasso"
      ],
      "metadata": {
        "colab": {
          "base_uri": "https://localhost:8080/"
        },
        "id": "ZOWm7ZPe43So",
        "outputId": "b660ecaa-8842-46c4-be41-7f3844f2b58a"
      },
      "execution_count": null,
      "outputs": [
        {
          "output_type": "execute_result",
          "data": {
            "text/plain": [
              "array([ 2.35234509,  0.57054849,  0.22860076, -0.        ,  0.10505105,\n",
              "        0.17102246,  0.        ,  0.        ,  0.06535352])"
            ]
          },
          "metadata": {},
          "execution_count": 18
        }
      ]
    },
    {
      "cell_type": "code",
      "source": [
        "LassoMSE"
      ],
      "metadata": {
        "colab": {
          "base_uri": "https://localhost:8080/"
        },
        "id": "pRlNryyN45hP",
        "outputId": "2e643eb0-616f-4b22-c5be-7587c8c24323"
      },
      "execution_count": null,
      "outputs": [
        {
          "output_type": "execute_result",
          "data": {
            "text/plain": [
              "array([0.48223989])"
            ]
          },
          "metadata": {},
          "execution_count": 19
        }
      ]
    },
    {
      "cell_type": "code",
      "source": [],
      "metadata": {
        "id": "s0G4T_iA47jB"
      },
      "execution_count": null,
      "outputs": []
    },
    {
      "cell_type": "code",
      "source": [
        "def getParametersElasticNet(x,y):\n",
        "    bestMSE=10e100\n",
        "\n",
        "    regList=[l*0.1 for l in range(1,500)]\n",
        "    ratio=[i*0.001 for i in range(1,100)]\n",
        "\n",
        "    global bestAlpha\n",
        "    global bestRatio\n",
        "    global bestElasticWeights\n",
        "\n",
        "    for l1 in regList:\n",
        "        for r in ratio:\n",
        "            elasticModel=sklearn.linear_model.ElasticNet(alpha=l1,l1_ratio=r,fit_intercept=False,max_iter=3000,tol=1e-5)\n",
        "            elasticModel.fit(x,y)\n",
        "            getPred=elasticModel.predict(X_Validate).reshape(-1,1)\n",
        "\n",
        "            MSE=sum((Y_Validate-getPred)**2)\n",
        "            if MSE< bestMSE:\n",
        "                bestMSE=MSE\n",
        "                bestAlpha=l1\n",
        "                bestRatio=r\n",
        "                bestElasticWeights=elasticModel.coef_\n",
        "\n",
        "    return(bestElasticWeights)\n",
        "\n"
      ],
      "metadata": {
        "id": "rB5SA6FC560k"
      },
      "execution_count": null,
      "outputs": []
    },
    {
      "cell_type": "code",
      "source": [
        "elasticWeights=getParametersElasticNet(X_train,Y_train)\n",
        "\n",
        "\n",
        "print(f'The ideal alpha for elastic net is {bestAlpha} and the best ratio is {bestRatio}')\n",
        "\n",
        "\n",
        "fitElastic=sklearn.linear_model.ElasticNet(alpha=bestAlpha,l1_ratio=bestRatio,fit_intercept=False)\n",
        "fitElastic.fit(x_train_scaled,y_train)\n",
        "Welastic=fitElastic.coef_\n",
        "pz=fitElastic.predict(x_test_scaled).reshape(-1,1)\n",
        "ElasticMSE=(1/x_test_scaled.shape[0])*sum((y_test-pz)**2)\n",
        "print(ElasticMSE)"
      ],
      "metadata": {
        "colab": {
          "base_uri": "https://localhost:8080/",
          "height": 381
        },
        "id": "0i4iZSzz634a",
        "outputId": "ef0351cb-6b68-4aef-bef6-6bc06aeb76dd"
      },
      "execution_count": null,
      "outputs": [
        {
          "output_type": "error",
          "ename": "ValueError",
          "evalue": "ignored",
          "traceback": [
            "\u001b[0;31m---------------------------------------------------------------------------\u001b[0m",
            "\u001b[0;31mValueError\u001b[0m                                Traceback (most recent call last)",
            "\u001b[0;32m<ipython-input-50-5a26254c09f6>\u001b[0m in \u001b[0;36m<cell line: 1>\u001b[0;34m()\u001b[0m\n\u001b[0;32m----> 1\u001b[0;31m \u001b[0melasticWeights\u001b[0m\u001b[0;34m=\u001b[0m\u001b[0mgetParametersElasticNet\u001b[0m\u001b[0;34m(\u001b[0m\u001b[0mX_train\u001b[0m\u001b[0;34m,\u001b[0m\u001b[0mY_train\u001b[0m\u001b[0;34m)\u001b[0m\u001b[0;34m\u001b[0m\u001b[0;34m\u001b[0m\u001b[0m\n\u001b[0m\u001b[1;32m      2\u001b[0m \u001b[0;34m\u001b[0m\u001b[0m\n\u001b[1;32m      3\u001b[0m \u001b[0;34m\u001b[0m\u001b[0m\n\u001b[1;32m      4\u001b[0m \u001b[0mprint\u001b[0m\u001b[0;34m(\u001b[0m\u001b[0;34mf'The ideal alpha for elastic net is {bestAlpha} and the best ratio is {bestRatio}'\u001b[0m\u001b[0;34m)\u001b[0m\u001b[0;34m\u001b[0m\u001b[0;34m\u001b[0m\u001b[0m\n\u001b[1;32m      5\u001b[0m \u001b[0;34m\u001b[0m\u001b[0m\n",
            "\u001b[0;32m<ipython-input-49-c472843b09b2>\u001b[0m in \u001b[0;36mgetParametersElasticNet\u001b[0;34m(x, y)\u001b[0m\n\u001b[1;32m     12\u001b[0m         \u001b[0;32mfor\u001b[0m \u001b[0mr\u001b[0m \u001b[0;32min\u001b[0m \u001b[0mratio\u001b[0m\u001b[0;34m:\u001b[0m\u001b[0;34m\u001b[0m\u001b[0;34m\u001b[0m\u001b[0m\n\u001b[1;32m     13\u001b[0m             \u001b[0melasticModel\u001b[0m\u001b[0;34m=\u001b[0m\u001b[0msklearn\u001b[0m\u001b[0;34m.\u001b[0m\u001b[0mlinear_model\u001b[0m\u001b[0;34m.\u001b[0m\u001b[0mElasticNet\u001b[0m\u001b[0;34m(\u001b[0m\u001b[0malpha\u001b[0m\u001b[0;34m=\u001b[0m\u001b[0ml1\u001b[0m\u001b[0;34m,\u001b[0m\u001b[0ml1_ratio\u001b[0m\u001b[0;34m=\u001b[0m\u001b[0mr\u001b[0m\u001b[0;34m,\u001b[0m\u001b[0mfit_intercept\u001b[0m\u001b[0;34m=\u001b[0m\u001b[0;32mFalse\u001b[0m\u001b[0;34m,\u001b[0m\u001b[0mmax_iter\u001b[0m\u001b[0;34m=\u001b[0m\u001b[0;36m3000\u001b[0m\u001b[0;34m,\u001b[0m\u001b[0mtol\u001b[0m\u001b[0;34m=\u001b[0m\u001b[0;36m1e-5\u001b[0m\u001b[0;34m)\u001b[0m\u001b[0;34m\u001b[0m\u001b[0;34m\u001b[0m\u001b[0m\n\u001b[0;32m---> 14\u001b[0;31m             \u001b[0melasticModel\u001b[0m\u001b[0;34m.\u001b[0m\u001b[0mfit\u001b[0m\u001b[0;34m(\u001b[0m\u001b[0mx\u001b[0m\u001b[0;34m,\u001b[0m\u001b[0my\u001b[0m\u001b[0;34m)\u001b[0m\u001b[0;34m\u001b[0m\u001b[0;34m\u001b[0m\u001b[0m\n\u001b[0m\u001b[1;32m     15\u001b[0m             \u001b[0mgetPred\u001b[0m\u001b[0;34m=\u001b[0m\u001b[0melasticModel\u001b[0m\u001b[0;34m.\u001b[0m\u001b[0mpredict\u001b[0m\u001b[0;34m(\u001b[0m\u001b[0mX_Validate\u001b[0m\u001b[0;34m)\u001b[0m\u001b[0;34m.\u001b[0m\u001b[0mreshape\u001b[0m\u001b[0;34m(\u001b[0m\u001b[0;34m-\u001b[0m\u001b[0;36m1\u001b[0m\u001b[0;34m,\u001b[0m\u001b[0;36m1\u001b[0m\u001b[0;34m)\u001b[0m\u001b[0;34m\u001b[0m\u001b[0;34m\u001b[0m\u001b[0m\n\u001b[1;32m     16\u001b[0m \u001b[0;34m\u001b[0m\u001b[0m\n",
            "\u001b[0;32m/usr/local/lib/python3.10/dist-packages/sklearn/linear_model/_coordinate_descent.py\u001b[0m in \u001b[0;36mfit\u001b[0;34m(self, X, y, sample_weight, check_input)\u001b[0m\n\u001b[1;32m    906\u001b[0m         \u001b[0;32mif\u001b[0m \u001b[0mcheck_input\u001b[0m\u001b[0;34m:\u001b[0m\u001b[0;34m\u001b[0m\u001b[0;34m\u001b[0m\u001b[0m\n\u001b[1;32m    907\u001b[0m             \u001b[0mX_copied\u001b[0m \u001b[0;34m=\u001b[0m \u001b[0mself\u001b[0m\u001b[0;34m.\u001b[0m\u001b[0mcopy_X\u001b[0m \u001b[0;32mand\u001b[0m \u001b[0mself\u001b[0m\u001b[0;34m.\u001b[0m\u001b[0mfit_intercept\u001b[0m\u001b[0;34m\u001b[0m\u001b[0;34m\u001b[0m\u001b[0m\n\u001b[0;32m--> 908\u001b[0;31m             X, y = self._validate_data(\n\u001b[0m\u001b[1;32m    909\u001b[0m                 \u001b[0mX\u001b[0m\u001b[0;34m,\u001b[0m\u001b[0;34m\u001b[0m\u001b[0;34m\u001b[0m\u001b[0m\n\u001b[1;32m    910\u001b[0m                 \u001b[0my\u001b[0m\u001b[0;34m,\u001b[0m\u001b[0;34m\u001b[0m\u001b[0;34m\u001b[0m\u001b[0m\n",
            "\u001b[0;32m/usr/local/lib/python3.10/dist-packages/sklearn/base.py\u001b[0m in \u001b[0;36m_validate_data\u001b[0;34m(self, X, y, reset, validate_separately, **check_params)\u001b[0m\n\u001b[1;32m    582\u001b[0m                 \u001b[0my\u001b[0m \u001b[0;34m=\u001b[0m \u001b[0mcheck_array\u001b[0m\u001b[0;34m(\u001b[0m\u001b[0my\u001b[0m\u001b[0;34m,\u001b[0m \u001b[0minput_name\u001b[0m\u001b[0;34m=\u001b[0m\u001b[0;34m\"y\"\u001b[0m\u001b[0;34m,\u001b[0m \u001b[0;34m**\u001b[0m\u001b[0mcheck_y_params\u001b[0m\u001b[0;34m)\u001b[0m\u001b[0;34m\u001b[0m\u001b[0;34m\u001b[0m\u001b[0m\n\u001b[1;32m    583\u001b[0m             \u001b[0;32melse\u001b[0m\u001b[0;34m:\u001b[0m\u001b[0;34m\u001b[0m\u001b[0;34m\u001b[0m\u001b[0m\n\u001b[0;32m--> 584\u001b[0;31m                 \u001b[0mX\u001b[0m\u001b[0;34m,\u001b[0m \u001b[0my\u001b[0m \u001b[0;34m=\u001b[0m \u001b[0mcheck_X_y\u001b[0m\u001b[0;34m(\u001b[0m\u001b[0mX\u001b[0m\u001b[0;34m,\u001b[0m \u001b[0my\u001b[0m\u001b[0;34m,\u001b[0m \u001b[0;34m**\u001b[0m\u001b[0mcheck_params\u001b[0m\u001b[0;34m)\u001b[0m\u001b[0;34m\u001b[0m\u001b[0;34m\u001b[0m\u001b[0m\n\u001b[0m\u001b[1;32m    585\u001b[0m             \u001b[0mout\u001b[0m \u001b[0;34m=\u001b[0m \u001b[0mX\u001b[0m\u001b[0;34m,\u001b[0m \u001b[0my\u001b[0m\u001b[0;34m\u001b[0m\u001b[0;34m\u001b[0m\u001b[0m\n\u001b[1;32m    586\u001b[0m \u001b[0;34m\u001b[0m\u001b[0m\n",
            "\u001b[0;32m/usr/local/lib/python3.10/dist-packages/sklearn/utils/validation.py\u001b[0m in \u001b[0;36mcheck_X_y\u001b[0;34m(X, y, accept_sparse, accept_large_sparse, dtype, order, copy, force_all_finite, ensure_2d, allow_nd, multi_output, ensure_min_samples, ensure_min_features, y_numeric, estimator)\u001b[0m\n\u001b[1;32m   1122\u001b[0m     \u001b[0my\u001b[0m \u001b[0;34m=\u001b[0m \u001b[0m_check_y\u001b[0m\u001b[0;34m(\u001b[0m\u001b[0my\u001b[0m\u001b[0;34m,\u001b[0m \u001b[0mmulti_output\u001b[0m\u001b[0;34m=\u001b[0m\u001b[0mmulti_output\u001b[0m\u001b[0;34m,\u001b[0m \u001b[0my_numeric\u001b[0m\u001b[0;34m=\u001b[0m\u001b[0my_numeric\u001b[0m\u001b[0;34m,\u001b[0m \u001b[0mestimator\u001b[0m\u001b[0;34m=\u001b[0m\u001b[0mestimator\u001b[0m\u001b[0;34m)\u001b[0m\u001b[0;34m\u001b[0m\u001b[0;34m\u001b[0m\u001b[0m\n\u001b[1;32m   1123\u001b[0m \u001b[0;34m\u001b[0m\u001b[0m\n\u001b[0;32m-> 1124\u001b[0;31m     \u001b[0mcheck_consistent_length\u001b[0m\u001b[0;34m(\u001b[0m\u001b[0mX\u001b[0m\u001b[0;34m,\u001b[0m \u001b[0my\u001b[0m\u001b[0;34m)\u001b[0m\u001b[0;34m\u001b[0m\u001b[0;34m\u001b[0m\u001b[0m\n\u001b[0m\u001b[1;32m   1125\u001b[0m \u001b[0;34m\u001b[0m\u001b[0m\n\u001b[1;32m   1126\u001b[0m     \u001b[0;32mreturn\u001b[0m \u001b[0mX\u001b[0m\u001b[0;34m,\u001b[0m \u001b[0my\u001b[0m\u001b[0;34m\u001b[0m\u001b[0;34m\u001b[0m\u001b[0m\n",
            "\u001b[0;32m/usr/local/lib/python3.10/dist-packages/sklearn/utils/validation.py\u001b[0m in \u001b[0;36mcheck_consistent_length\u001b[0;34m(*arrays)\u001b[0m\n\u001b[1;32m    395\u001b[0m     \u001b[0muniques\u001b[0m \u001b[0;34m=\u001b[0m \u001b[0mnp\u001b[0m\u001b[0;34m.\u001b[0m\u001b[0munique\u001b[0m\u001b[0;34m(\u001b[0m\u001b[0mlengths\u001b[0m\u001b[0;34m)\u001b[0m\u001b[0;34m\u001b[0m\u001b[0;34m\u001b[0m\u001b[0m\n\u001b[1;32m    396\u001b[0m     \u001b[0;32mif\u001b[0m \u001b[0mlen\u001b[0m\u001b[0;34m(\u001b[0m\u001b[0muniques\u001b[0m\u001b[0;34m)\u001b[0m \u001b[0;34m>\u001b[0m \u001b[0;36m1\u001b[0m\u001b[0;34m:\u001b[0m\u001b[0;34m\u001b[0m\u001b[0;34m\u001b[0m\u001b[0m\n\u001b[0;32m--> 397\u001b[0;31m         raise ValueError(\n\u001b[0m\u001b[1;32m    398\u001b[0m             \u001b[0;34m\"Found input variables with inconsistent numbers of samples: %r\"\u001b[0m\u001b[0;34m\u001b[0m\u001b[0;34m\u001b[0m\u001b[0m\n\u001b[1;32m    399\u001b[0m             \u001b[0;34m%\u001b[0m \u001b[0;34m[\u001b[0m\u001b[0mint\u001b[0m\u001b[0;34m(\u001b[0m\u001b[0ml\u001b[0m\u001b[0;34m)\u001b[0m \u001b[0;32mfor\u001b[0m \u001b[0ml\u001b[0m \u001b[0;32min\u001b[0m \u001b[0mlengths\u001b[0m\u001b[0;34m]\u001b[0m\u001b[0;34m\u001b[0m\u001b[0;34m\u001b[0m\u001b[0m\n",
            "\u001b[0;31mValueError\u001b[0m: Found input variables with inconsistent numbers of samples: [404, 44]"
          ]
        }
      ]
    },
    {
      "cell_type": "code",
      "source": [
        "import pandas as pd\n",
        "from sklearn.model_selection import train_test_split\n",
        "from sklearn.linear_model import LinearRegression\n",
        "from sklearn.metrics import r2_score\n",
        "\n",
        "# Load the Boston housing dataset\n",
        "url = \"https://raw.githubusercontent.com/selva86/datasets/master/BostonHousing.csv\"\n",
        "data = pd.read_csv(url)\n",
        "\n",
        "# Split the data into predictors and target\n",
        "X = data.drop('medv', axis=1)\n",
        "y = data['medv']\n",
        "\n",
        "# Split the data into training set and test set\n",
        "X_train, X_test, y_train, y_test = train_test_split(X, y, test_size=0.2, random_state=42)\n",
        "\n",
        "# Create a Linear Regression model and fit it to the training data\n",
        "model = LinearRegression()\n",
        "model.fit(X_train, y_train)\n",
        "\n",
        "# Use the model to make predictions on the test set\n",
        "y_pred = model.predict(X_test)\n",
        "\n",
        "# Calculate the R-squared score\n",
        "r2 = r2_score(y_test, y_pred)\n",
        "\n",
        "# Calculate the adjusted R-squared score\n",
        "n = X_test.shape[0]  # number of observations\n",
        "k = X_test.shape[1]  # number of predictors\n",
        "\n",
        "adj_r2 = 1 - ((1 - r2) * (n - 1) / (n - k - 1))\n",
        "\n",
        "print(f'R-squared: {r2}')\n",
        "print(f'Adjusted R-squared: {adj_r2}')"
      ],
      "metadata": {
        "colab": {
          "base_uri": "https://localhost:8080/"
        },
        "id": "3ciz9ely7qCF",
        "outputId": "7cc2e722-45bc-4e3f-f426-845f77f0944d"
      },
      "execution_count": null,
      "outputs": [
        {
          "output_type": "stream",
          "name": "stdout",
          "text": [
            "R-squared: 0.6687594935356326\n",
            "Adjusted R-squared: 0.619826236898851\n"
          ]
        }
      ]
    },
    {
      "cell_type": "code",
      "source": [
        "AIC<BIC"
      ],
      "metadata": {
        "id": "EUXfckRwUunJ"
      },
      "execution_count": null,
      "outputs": []
    }
  ]
}